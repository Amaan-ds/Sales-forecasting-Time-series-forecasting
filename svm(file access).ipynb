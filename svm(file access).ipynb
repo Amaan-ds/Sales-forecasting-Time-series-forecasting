{
 "cells": [
  {
   "cell_type": "code",
   "execution_count": 52,
   "id": "0405d10b-cee3-43a1-8606-3c288206963d",
   "metadata": {},
   "outputs": [],
   "source": [
    "import pandas as pd\n",
    "from sklearn.model_selection import train_test_split\n",
    "from sklearn.preprocessing import StandardScaler, OneHotEncoder\n",
    "from sklearn.compose import ColumnTransformer\n",
    "from sklearn.pipeline import Pipeline\n",
    "from sklearn.svm import SVR\n",
    "import numpy as np"
   ]
  },
  {
   "cell_type": "code",
   "execution_count": 53,
   "id": "e3547274-9b64-497c-813c-00ca34a7c52b",
   "metadata": {},
   "outputs": [
    {
     "name": "stdout",
     "output_type": "stream",
     "text": [
      "      ORDERNUMBER  PRICEEACH    SALES  MONTH_ID  YEAR_ID\n",
      "0           10107      95.70  2871.00         2     2003\n",
      "1           10121      81.35  2765.90         5     2003\n",
      "2           10134      94.74  3884.34         7     2003\n",
      "3           10145      83.26  3746.70         8     2003\n",
      "4           10159     100.00  5205.27        10     2003\n",
      "...           ...        ...      ...       ...      ...\n",
      "2818        10350     100.00  2244.40        12     2004\n",
      "2819        10373     100.00  3978.51         1     2005\n",
      "2820        10386     100.00  5417.57         3     2005\n",
      "2821        10397      62.24  2116.16         3     2005\n",
      "2822        10414      65.52  3079.44         5     2005\n",
      "\n",
      "[2823 rows x 5 columns]\n"
     ]
    }
   ],
   "source": [
    "\n",
    "import pandas as pd\n",
    "import chardet  # Use chardet to detect the encoding\n",
    "\n",
    "# Path to the original CSV file\n",
    "original_csv_path = r'C:\\Users\\amaan\\Downloads\\sales_data.csv'\n",
    "\n",
    "# Detect the encoding of the original CSV file\n",
    "with open(original_csv_path, 'rb') as f:\n",
    "    result = chardet.detect(f.read())\n",
    "    encoding = result['encoding']\n",
    "\n",
    "# Convert the file to UTF-8 encoding\n",
    "with open(original_csv_path, 'rb') as f:\n",
    "    with open('sales_data_utf8.csv', 'w', encoding='utf-8') as f_utf8:\n",
    "        f_utf8.write(f.read().decode(encoding))\n",
    "\n",
    "# Specify the columns you want to keep\n",
    "columns_to_keep = ['ORDERNUMBER', 'PRICEEACH', 'MONTH_ID', 'YEAR_ID', 'SALES']\n",
    "\n",
    "# Read the UTF-8 encoded CSV file into a pandas DataFrame\n",
    "df = pd.read_csv('sales_data_utf8.csv', usecols=columns_to_keep)\n",
    "\n",
    "# Print the resulting DataFrame\n",
    "print(df)"
   ]
  },
  {
   "cell_type": "code",
   "execution_count": 54,
   "id": "6e95275f-642e-4b58-98d2-f6d6ef3c6413",
   "metadata": {},
   "outputs": [],
   "source": [
    "# Block 3: Preprocess the data\n",
    "# Define categorical and numerical columns\n",
    "categorical_cols = ['MONTH_ID', 'YEAR_ID']\n",
    "numerical_cols = ['PRICEEACH', 'SALES']\n",
    "\n",
    "# Create preprocessing pipelines for both numerical and categorical data\n",
    "preprocessor = ColumnTransformer(\n",
    "    transformers=[\n",
    "        ('num', StandardScaler(), numerical_cols),\n",
    "        ('cat', OneHotEncoder(handle_unknown='ignore'), categorical_cols)\n",
    "    ])\n"
   ]
  },
  {
   "cell_type": "code",
   "execution_count": 55,
   "id": "de1ce4c5-cbcb-4437-b1f9-faf6e21b8bfb",
   "metadata": {},
   "outputs": [],
   "source": [
    "# Block 4: Create a pipeline that first preprocesses the data then applies an SVM model\n",
    "pipeline = Pipeline(steps=[('preprocessor', preprocessor), ('svm', SVR(kernel='linear'))])\n"
   ]
  },
  {
   "cell_type": "code",
   "execution_count": 56,
   "id": "c1d47dc1-6668-451f-beaf-fac3a67dfe8f",
   "metadata": {},
   "outputs": [],
   "source": [
    "# Block 5: Select features and target variable\n",
    "X = df[categorical_cols + numerical_cols]\n",
    "y = df['SALES']\n"
   ]
  },
  {
   "cell_type": "code",
   "execution_count": 57,
   "id": "82f70f29-99af-4bdf-9280-476eb5f8547a",
   "metadata": {},
   "outputs": [],
   "source": [
    "# Block 6: Split the data into training and testing sets\n",
    "X_train, X_test, y_train, y_test = train_test_split(X, y, test_size=0.2, random_state=42)\n"
   ]
  },
  {
   "cell_type": "code",
   "execution_count": 58,
   "id": "494b09ae-9475-4d2b-b9fb-629a70881ad3",
   "metadata": {},
   "outputs": [
    {
     "data": {
      "text/html": [
       "<style>#sk-container-id-4 {color: black;background-color: white;}#sk-container-id-4 pre{padding: 0;}#sk-container-id-4 div.sk-toggleable {background-color: white;}#sk-container-id-4 label.sk-toggleable__label {cursor: pointer;display: block;width: 100%;margin-bottom: 0;padding: 0.3em;box-sizing: border-box;text-align: center;}#sk-container-id-4 label.sk-toggleable__label-arrow:before {content: \"▸\";float: left;margin-right: 0.25em;color: #696969;}#sk-container-id-4 label.sk-toggleable__label-arrow:hover:before {color: black;}#sk-container-id-4 div.sk-estimator:hover label.sk-toggleable__label-arrow:before {color: black;}#sk-container-id-4 div.sk-toggleable__content {max-height: 0;max-width: 0;overflow: hidden;text-align: left;background-color: #f0f8ff;}#sk-container-id-4 div.sk-toggleable__content pre {margin: 0.2em;color: black;border-radius: 0.25em;background-color: #f0f8ff;}#sk-container-id-4 input.sk-toggleable__control:checked~div.sk-toggleable__content {max-height: 200px;max-width: 100%;overflow: auto;}#sk-container-id-4 input.sk-toggleable__control:checked~label.sk-toggleable__label-arrow:before {content: \"▾\";}#sk-container-id-4 div.sk-estimator input.sk-toggleable__control:checked~label.sk-toggleable__label {background-color: #d4ebff;}#sk-container-id-4 div.sk-label input.sk-toggleable__control:checked~label.sk-toggleable__label {background-color: #d4ebff;}#sk-container-id-4 input.sk-hidden--visually {border: 0;clip: rect(1px 1px 1px 1px);clip: rect(1px, 1px, 1px, 1px);height: 1px;margin: -1px;overflow: hidden;padding: 0;position: absolute;width: 1px;}#sk-container-id-4 div.sk-estimator {font-family: monospace;background-color: #f0f8ff;border: 1px dotted black;border-radius: 0.25em;box-sizing: border-box;margin-bottom: 0.5em;}#sk-container-id-4 div.sk-estimator:hover {background-color: #d4ebff;}#sk-container-id-4 div.sk-parallel-item::after {content: \"\";width: 100%;border-bottom: 1px solid gray;flex-grow: 1;}#sk-container-id-4 div.sk-label:hover label.sk-toggleable__label {background-color: #d4ebff;}#sk-container-id-4 div.sk-serial::before {content: \"\";position: absolute;border-left: 1px solid gray;box-sizing: border-box;top: 0;bottom: 0;left: 50%;z-index: 0;}#sk-container-id-4 div.sk-serial {display: flex;flex-direction: column;align-items: center;background-color: white;padding-right: 0.2em;padding-left: 0.2em;position: relative;}#sk-container-id-4 div.sk-item {position: relative;z-index: 1;}#sk-container-id-4 div.sk-parallel {display: flex;align-items: stretch;justify-content: center;background-color: white;position: relative;}#sk-container-id-4 div.sk-item::before, #sk-container-id-4 div.sk-parallel-item::before {content: \"\";position: absolute;border-left: 1px solid gray;box-sizing: border-box;top: 0;bottom: 0;left: 50%;z-index: -1;}#sk-container-id-4 div.sk-parallel-item {display: flex;flex-direction: column;z-index: 1;position: relative;background-color: white;}#sk-container-id-4 div.sk-parallel-item:first-child::after {align-self: flex-end;width: 50%;}#sk-container-id-4 div.sk-parallel-item:last-child::after {align-self: flex-start;width: 50%;}#sk-container-id-4 div.sk-parallel-item:only-child::after {width: 0;}#sk-container-id-4 div.sk-dashed-wrapped {border: 1px dashed gray;margin: 0 0.4em 0.5em 0.4em;box-sizing: border-box;padding-bottom: 0.4em;background-color: white;}#sk-container-id-4 div.sk-label label {font-family: monospace;font-weight: bold;display: inline-block;line-height: 1.2em;}#sk-container-id-4 div.sk-label-container {text-align: center;}#sk-container-id-4 div.sk-container {/* jupyter's `normalize.less` sets `[hidden] { display: none; }` but bootstrap.min.css set `[hidden] { display: none !important; }` so we also need the `!important` here to be able to override the default hidden behavior on the sphinx rendered scikit-learn.org. See: https://github.com/scikit-learn/scikit-learn/issues/21755 */display: inline-block !important;position: relative;}#sk-container-id-4 div.sk-text-repr-fallback {display: none;}</style><div id=\"sk-container-id-4\" class=\"sk-top-container\"><div class=\"sk-text-repr-fallback\"><pre>Pipeline(steps=[(&#x27;preprocessor&#x27;,\n",
       "                 ColumnTransformer(transformers=[(&#x27;num&#x27;, StandardScaler(),\n",
       "                                                  [&#x27;PRICEEACH&#x27;, &#x27;SALES&#x27;]),\n",
       "                                                 (&#x27;cat&#x27;,\n",
       "                                                  OneHotEncoder(handle_unknown=&#x27;ignore&#x27;),\n",
       "                                                  [&#x27;MONTH_ID&#x27;, &#x27;YEAR_ID&#x27;])])),\n",
       "                (&#x27;svm&#x27;, SVR(kernel=&#x27;linear&#x27;))])</pre><b>In a Jupyter environment, please rerun this cell to show the HTML representation or trust the notebook. <br />On GitHub, the HTML representation is unable to render, please try loading this page with nbviewer.org.</b></div><div class=\"sk-container\" hidden><div class=\"sk-item sk-dashed-wrapped\"><div class=\"sk-label-container\"><div class=\"sk-label sk-toggleable\"><input class=\"sk-toggleable__control sk-hidden--visually\" id=\"sk-estimator-id-10\" type=\"checkbox\" ><label for=\"sk-estimator-id-10\" class=\"sk-toggleable__label sk-toggleable__label-arrow\">Pipeline</label><div class=\"sk-toggleable__content\"><pre>Pipeline(steps=[(&#x27;preprocessor&#x27;,\n",
       "                 ColumnTransformer(transformers=[(&#x27;num&#x27;, StandardScaler(),\n",
       "                                                  [&#x27;PRICEEACH&#x27;, &#x27;SALES&#x27;]),\n",
       "                                                 (&#x27;cat&#x27;,\n",
       "                                                  OneHotEncoder(handle_unknown=&#x27;ignore&#x27;),\n",
       "                                                  [&#x27;MONTH_ID&#x27;, &#x27;YEAR_ID&#x27;])])),\n",
       "                (&#x27;svm&#x27;, SVR(kernel=&#x27;linear&#x27;))])</pre></div></div></div><div class=\"sk-serial\"><div class=\"sk-item sk-dashed-wrapped\"><div class=\"sk-label-container\"><div class=\"sk-label sk-toggleable\"><input class=\"sk-toggleable__control sk-hidden--visually\" id=\"sk-estimator-id-11\" type=\"checkbox\" ><label for=\"sk-estimator-id-11\" class=\"sk-toggleable__label sk-toggleable__label-arrow\">preprocessor: ColumnTransformer</label><div class=\"sk-toggleable__content\"><pre>ColumnTransformer(transformers=[(&#x27;num&#x27;, StandardScaler(),\n",
       "                                 [&#x27;PRICEEACH&#x27;, &#x27;SALES&#x27;]),\n",
       "                                (&#x27;cat&#x27;, OneHotEncoder(handle_unknown=&#x27;ignore&#x27;),\n",
       "                                 [&#x27;MONTH_ID&#x27;, &#x27;YEAR_ID&#x27;])])</pre></div></div></div><div class=\"sk-parallel\"><div class=\"sk-parallel-item\"><div class=\"sk-item\"><div class=\"sk-label-container\"><div class=\"sk-label sk-toggleable\"><input class=\"sk-toggleable__control sk-hidden--visually\" id=\"sk-estimator-id-12\" type=\"checkbox\" ><label for=\"sk-estimator-id-12\" class=\"sk-toggleable__label sk-toggleable__label-arrow\">num</label><div class=\"sk-toggleable__content\"><pre>[&#x27;PRICEEACH&#x27;, &#x27;SALES&#x27;]</pre></div></div></div><div class=\"sk-serial\"><div class=\"sk-item\"><div class=\"sk-estimator sk-toggleable\"><input class=\"sk-toggleable__control sk-hidden--visually\" id=\"sk-estimator-id-13\" type=\"checkbox\" ><label for=\"sk-estimator-id-13\" class=\"sk-toggleable__label sk-toggleable__label-arrow\">StandardScaler</label><div class=\"sk-toggleable__content\"><pre>StandardScaler()</pre></div></div></div></div></div></div><div class=\"sk-parallel-item\"><div class=\"sk-item\"><div class=\"sk-label-container\"><div class=\"sk-label sk-toggleable\"><input class=\"sk-toggleable__control sk-hidden--visually\" id=\"sk-estimator-id-14\" type=\"checkbox\" ><label for=\"sk-estimator-id-14\" class=\"sk-toggleable__label sk-toggleable__label-arrow\">cat</label><div class=\"sk-toggleable__content\"><pre>[&#x27;MONTH_ID&#x27;, &#x27;YEAR_ID&#x27;]</pre></div></div></div><div class=\"sk-serial\"><div class=\"sk-item\"><div class=\"sk-estimator sk-toggleable\"><input class=\"sk-toggleable__control sk-hidden--visually\" id=\"sk-estimator-id-15\" type=\"checkbox\" ><label for=\"sk-estimator-id-15\" class=\"sk-toggleable__label sk-toggleable__label-arrow\">OneHotEncoder</label><div class=\"sk-toggleable__content\"><pre>OneHotEncoder(handle_unknown=&#x27;ignore&#x27;)</pre></div></div></div></div></div></div></div></div><div class=\"sk-item\"><div class=\"sk-estimator sk-toggleable\"><input class=\"sk-toggleable__control sk-hidden--visually\" id=\"sk-estimator-id-16\" type=\"checkbox\" ><label for=\"sk-estimator-id-16\" class=\"sk-toggleable__label sk-toggleable__label-arrow\">SVR</label><div class=\"sk-toggleable__content\"><pre>SVR(kernel=&#x27;linear&#x27;)</pre></div></div></div></div></div></div></div>"
      ],
      "text/plain": [
       "Pipeline(steps=[('preprocessor',\n",
       "                 ColumnTransformer(transformers=[('num', StandardScaler(),\n",
       "                                                  ['PRICEEACH', 'SALES']),\n",
       "                                                 ('cat',\n",
       "                                                  OneHotEncoder(handle_unknown='ignore'),\n",
       "                                                  ['MONTH_ID', 'YEAR_ID'])])),\n",
       "                ('svm', SVR(kernel='linear'))])"
      ]
     },
     "execution_count": 58,
     "metadata": {},
     "output_type": "execute_result"
    }
   ],
   "source": [
    "# Block 7: Train the SVM model using the pipeline\n",
    "pipeline.fit(X_train, y_train)\n"
   ]
  },
  {
   "cell_type": "code",
   "execution_count": 59,
   "id": "faf957b4-4001-498b-9c03-ffff84a96aab",
   "metadata": {},
   "outputs": [],
   "source": [
    "# Block 8: Predict sales for the next 6 months\n",
    "current_month_data = X.iloc[-1:].copy()  # Get the last row as the current month's data and make a copy\n",
    "predicted_sales_next_6_months = []\n",
    "\n",
    "for _ in range(6):\n",
    "    predicted_sales = pipeline.predict(current_month_data)\n",
    "    predicted_sales_next_6_months.append(predicted_sales[0])\n",
    "    # Update the current month's data with the predicted sales using .loc\n",
    "    current_month_data.loc[:, 'SALES'] = predicted_sales\n"
   ]
  },
  {
   "cell_type": "code",
   "execution_count": 60,
   "id": "fcb93231-087a-4d90-86e8-c2538646a2ea",
   "metadata": {},
   "outputs": [
    {
     "name": "stdout",
     "output_type": "stream",
     "text": [
      "Month 1 - Predicted Sales: 2943.85\n",
      "Month 2 - Predicted Sales: 2841.59\n",
      "Month 3 - Predicted Sales: 2764.46\n",
      "Month 4 - Predicted Sales: 2706.30\n",
      "Month 5 - Predicted Sales: 2662.43\n",
      "Month 6 - Predicted Sales: 2629.34\n"
     ]
    }
   ],
   "source": [
    "# Block 9: Print the predicted sales for the next 6 months\n",
    "for i, sales in enumerate(predicted_sales_next_6_months):\n",
    "    print(f\"Month {i+1} - Predicted Sales: {sales:.2f}\")\n"
   ]
  },
  {
   "cell_type": "code",
   "execution_count": 64,
   "id": "87fb5706-a1ef-469b-a81b-d24990006023",
   "metadata": {},
   "outputs": [],
   "source": [
    "# Block 10: Determine profit or loss\n",
    "# assuming costs are constant or known\n",
    "costs = np.mean(df['PRICEEACH']) * 0.75  # costs are 0.75 times the average price each\n",
    "predicted_profits_next_6_months = np.array(predicted_sales_next_6_months) - costs"
   ]
  },
  {
   "cell_type": "code",
   "execution_count": 67,
   "id": "3afe112d-5df0-4ff8-9f12-403a5c8a81e4",
   "metadata": {},
   "outputs": [
    {
     "name": "stdout",
     "output_type": "stream",
     "text": [
      "Month 1 - Predicted Profit: +2881.10\n",
      "Month 2 - Predicted Profit: +2778.84\n",
      "Month 3 - Predicted Profit: +2701.72\n",
      "Month 4 - Predicted Profit: +2643.55\n",
      "Month 5 - Predicted Profit: +2599.69\n",
      "Month 6 - Predicted Profit: +2566.60\n"
     ]
    }
   ],
   "source": [
    "# Block 11: Print the predicted profit/loss for the next 6 months with indicators for profit and loss\n",
    "for i, profit_loss in enumerate(predicted_profits_next_6_months):\n",
    "    # Check if the profit_loss is positive (profit) or negative (loss)\n",
    "    if profit_loss > 0:\n",
    "        outcome = \"Profit\"\n",
    "    else:\n",
    "        outcome = \"Loss\"\n",
    "    # Print the month, the outcome, and the amount\n",
    "    print(f\"Month {i+1} - Predicted {outcome}: +{abs(profit_loss):.2f}\") #if in dollars"
   ]
  },
  {
   "cell_type": "code",
   "execution_count": null,
   "id": "42cc2a4b-a88e-4d65-9a63-f3ebef7a8b28",
   "metadata": {},
   "outputs": [],
   "source": []
  }
 ],
 "metadata": {
  "kernelspec": {
   "display_name": "Python 3 (ipykernel)",
   "language": "python",
   "name": "python3"
  },
  "language_info": {
   "codemirror_mode": {
    "name": "ipython",
    "version": 3
   },
   "file_extension": ".py",
   "mimetype": "text/x-python",
   "name": "python",
   "nbconvert_exporter": "python",
   "pygments_lexer": "ipython3",
   "version": "3.11.7"
  }
 },
 "nbformat": 4,
 "nbformat_minor": 5
}
